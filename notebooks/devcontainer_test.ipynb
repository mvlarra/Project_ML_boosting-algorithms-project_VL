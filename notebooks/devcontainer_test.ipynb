{
 "cells": [
  {
   "cell_type": "code",
   "execution_count": 5,
   "metadata": {},
   "outputs": [
    {
     "name": "stdout",
     "output_type": "stream",
     "text": [
      "Python funcionando desde el contenedor en : /usr/local/bin/python\n"
     ]
    }
   ],
   "source": [
    "# Ruta del ejecutable de Python desde el contenedor\n",
    "# Debe imprimir la ruta del ejecutable de Python dentro del contenedor, algo como: \n",
    "# Python funcionando en: /usr/local/bin/python\n",
    "\n",
    "import sys\n",
    "print(\"Python funcionando desde el contenedor en :\", sys.executable)\n",
    "\n",
    "# 🧠 Explicación de la línea `import sys`\n",
    "\n",
    "# Esta línea importa el módulo estándar de Python llamado `sys`,\n",
    "# que te da acceso a funciones y variables relacionadas con el\n",
    "# intérprete de Python que está ejecutando tu código.\n",
    "\n",
    "# ✅ ¿Qué puedes hacer con `sys`?\n",
    "# - Ver la versión de Python: sys.version\n",
    "# - Ver la ruta del ejecutable de Python: sys.executable\n",
    "# - Acceder a los argumentos del script: sys.argv\n",
    "# - Ver las rutas de búsqueda de módulos: sys.path\n",
    "\n",
    "# 🔍 ¿Qué hace `sys.executable`?\n",
    "\n",
    "# Esta línea imprime la ruta completa del ejecutable de Python\n",
    "# que se está usando actualmente. Por ejemplo:\n",
    "\n",
    "# Python funcionando en: /usr/local/bin/python\n",
    "\n",
    "# 🤔 ¿Cómo sé que esa ruta es del contenedor y no de mi sistema?\n",
    "\n",
    "# Si estás en GitHub Codespaces o en un DevContainer,\n",
    "# estás ejecutando el código dentro de un contenedor Linux.\n",
    "# Este contenedor tiene su propio sistema de archivos,\n",
    "# por eso las rutas que ves NO pertenecen a tu sistema local.\n",
    "\n",
    "# Algunas pistas claras:\n",
    "# - VS Code muestra que estás conectado a un \"Dev Container\"\n",
    "# - Las rutas incluyen cosas como:\n",
    "#     /usr/local/bin/python\n",
    "#     /home/vscode/.local/\n",
    "#     /workspaces/tu-proyecto\n",
    "# - Puedes confirmarlo desde el terminal con:\n",
    "#     whoami        → debe devolver \"vscode\"\n",
    "#     pwd           → debe mostrar /workspaces/...\n",
    "#     ls /usr/local/bin → mostrará los binarios del contenedor\n",
    "\n",
    "# ✅ Conclusión:\n",
    "# El uso de `import sys` y `print(sys.executable)` te permite\n",
    "# verificar exactamente qué entorno de Python estás utilizando,\n",
    "# ideal para confirmar que el contenedor está activo y funcionando.\n"
   ]
  },
  {
   "cell_type": "code",
   "execution_count": 1,
   "metadata": {},
   "outputs": [
    {
     "name": "stdout",
     "output_type": "stream",
     "text": [
      "Pandas version: 2.2.3\n",
      "NumPy version: 2.2.4\n"
     ]
    }
   ],
   "source": [
    "import pandas as pd\n",
    "import numpy as np\n",
    "\n",
    "print(\"Pandas version:\", pd.__version__)\n",
    "print(\"NumPy version:\", np.__version__)\n"
   ]
  },
  {
   "cell_type": "markdown",
   "metadata": {},
   "source": [
    "# 📊 Mini Proyecto de Data Science\n",
    "Este notebook usa un entorno reproducible gracias a Docker y Dev Containers."
   ]
  },
  {
   "cell_type": "code",
   "execution_count": 2,
   "metadata": {},
   "outputs": [
    {
     "data": {
      "image/png": "[encoded data removed]",
      "text/plain": [
       "<Figure size 640x480 with 1 Axes>"
      ]
     },
     "metadata": {},
     "output_type": "display_data"
    }
   ],
   "source": [
    "import pandas as pd\n",
    "import numpy as np\n",
    "import matplotlib.pyplot as plt\n",
    "\n",
    "# Crear datos de ejemplo\n",
    "df = pd.DataFrame({\n",
    "    'A': np.random.rand(100),\n",
    "    'B': np.random.rand(100) * 10\n",
    "})\n",
    "\n",
    "df.plot(kind='scatter', x='A', y='B', title='Ejemplo de gráfico')\n",
    "plt.show()"
   ]
  },
  {
   "cell_type": "code",
   "execution_count": 3,
   "metadata": {},
   "outputs": [
    {
     "data": {
      "text/html": [
       "<div>\n",
       "<style scoped>\n",
       "    .dataframe tbody tr th:only-of-type {\n",
       "        vertical-align: middle;\n",
       "    }\n",
       "\n",
       "    .dataframe tbody tr th {\n",
       "        vertical-align: top;\n",
       "    }\n",
       "\n",
       "    .dataframe thead th {\n",
       "        text-align: right;\n",
       "    }\n",
       "</style>\n",
       "<table border=\"1\" class=\"dataframe\">\n",
       "  <thead>\n",
       "    <tr style=\"text-align: right;\">\n",
       "      <th></th>\n",
       "      <th>0</th>\n",
       "    </tr>\n",
       "  </thead>\n",
       "  <tbody>\n",
       "    <tr>\n",
       "      <th>0</th>\n",
       "      <td>10,000,000,003.1</td>\n",
       "    </tr>\n",
       "  </tbody>\n",
       "</table>\n",
       "</div>"
      ],
      "text/plain": [
       "                 0\n",
       "0 10,000,000,003.1"
      ]
     },
     "execution_count": 3,
     "metadata": {},
     "output_type": "execute_result"
    }
   ],
   "source": [
    "# Testing: \n",
    "# cada vez que se levante tu entorno en Codespaces, Pandas \n",
    "# ya tenga configurado que los numeros se muestren con un maximo de 4 digitos.\n",
    "import pandas as pd\n",
    "pd.DataFrame([10000000003.14159265]).head()"
   ]
  },
  {
   "cell_type": "code",
   "execution_count": 4,
   "metadata": {},
   "outputs": [
    {
     "data": {
      "text/html": [
       "<div>\n",
       "<style scoped>\n",
       "    .dataframe tbody tr th:only-of-type {\n",
       "        vertical-align: middle;\n",
       "    }\n",
       "\n",
       "    .dataframe tbody tr th {\n",
       "        vertical-align: top;\n",
       "    }\n",
       "\n",
       "    .dataframe thead th {\n",
       "        text-align: right;\n",
       "    }\n",
       "</style>\n",
       "<table border=\"1\" class=\"dataframe\">\n",
       "  <thead>\n",
       "    <tr style=\"text-align: right;\">\n",
       "      <th></th>\n",
       "      <th>0</th>\n",
       "    </tr>\n",
       "  </thead>\n",
       "  <tbody>\n",
       "    <tr>\n",
       "      <th>0</th>\n",
       "      <td>10,000,000,003.1</td>\n",
       "    </tr>\n",
       "  </tbody>\n",
       "</table>\n",
       "</div>"
      ],
      "text/plain": [
       "                 0\n",
       "0 10,000,000,003.1"
      ]
     },
     "execution_count": 4,
     "metadata": {},
     "output_type": "execute_result"
    }
   ],
   "source": [
    "# Testing: \n",
    "# cada vez que se levante tu entorno en Codespaces, Pandas \n",
    "# ya tenga configurado que los numeros se muestren con un maximo de 4 digitos.\n",
    "import pandas as pd\n",
    "import pandas as pd\n",
    "pd.DataFrame([10000000003.14159265]).sample()"
   ]
  }
 ],
 "metadata": {
  "kernelspec": {
   "display_name": "Python 3",
   "language": "python",
   "name": "python3"
  },
  "language_info": {
   "codemirror_mode": {
    "name": "ipython",
    "version": 3
   },
   "file_extension": ".py",
   "mimetype": "text/x-python",
   "name": "python",
   "nbconvert_exporter": "python",
   "pygments_lexer": "ipython3",
   "version": "3.11.4"
  }
 },
 "nbformat": 4,
 "nbformat_minor": 2
}
