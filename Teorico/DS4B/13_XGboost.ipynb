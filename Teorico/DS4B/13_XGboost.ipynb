{
 "cells": [
  {
   "cell_type": "markdown",
   "id": "driving-blond",
   "metadata": {},
   "source": [
    "# XGBOOST"
   ]
  },
  {
   "cell_type": "markdown",
   "id": "skilled-owner",
   "metadata": {},
   "source": [
    "## Objetivo de esta lección"
   ]
  },
  {
   "cell_type": "markdown",
   "id": "korean-orange",
   "metadata": {},
   "source": [
    "Aprender el que es posiblemente el algoritmo que actualmente es considerado como el rey de los algoritmos de ML supervisado: Xgboost.\n",
    "\n",
    "Además aprenderemos sobre la categoría general de Boosting y los modelos Gradient Boosting Machines."
   ]
  },
  {
   "cell_type": "markdown",
   "id": "separated-laptop",
   "metadata": {},
   "source": [
    "## Contexto y antecedentes"
   ]
  },
  {
   "cell_type": "markdown",
   "id": "criminal-taylor",
   "metadata": {},
   "source": [
    "En la lección anterior de Random Forest ya vimos que había 2 grandes estrategias para mejorar los resultados de los modelos basados en árboles.\n",
    "\n",
    "La primera era bagging, que ya la explicamos y cuya mejor implementación actual son los Random Forest.\n",
    "\n",
    "Y la otra era Boosting, que simplemente la nombramos.\n",
    "\n",
    "A diferencia de Bagging que funciona desarrollando muchos modelos en paralelo y luego combinándolos, Boosting funciona también haciendo muchos modelos pero donde cada uno está destinado a mejorar la predicción en los casos en los que el anterior no consiguió tener buena predicción, intentando capturar los patrones no capturados en los errores hasta que el error parezca aleatorio.\n",
    "\n",
    "La predicción final se realiza integrando todas las predicciones de cada uno de los árboles individuales que conforman el modelo final.\n",
    "\n",
    "Es por eso que estos modelos suelen ser más precisos, ya que trabajan reduciendo el sesgo (frente a los de bagging que reducían la varianza), pero pueden tener más riesgo de sobre ajustar.\n",
    "\n",
    "La primera implementación famosa de este concepto fue con un algoritmo que se llama Adaboost.\n",
    "\n",
    "Después llegó Gradient Boosting Machines y alguna variación como Stochastic Gradient Boosting.\n",
    "\n",
    "GBM mejoraba mucho la capacidad predictiva, pero tenía el problema de que era muy pesado y tardaba mucho en entrenarse.\n",
    "\n",
    "A grandes rasgos el concepto clave es el de \"optimización del gradiente\", por lo que todos estos algoritmos tienen un parámetro llamado \"learning rate\" que ajusta el nivel de corrección del gradiente en cada iteración. En la práctica se suele situar entre  0.001 y 0.01.\n",
    "\n",
    "Stochastic Gradient Boosting introducía una mejora traída de bagging, el muestreo aleatorio de observaciones de entrenamiento. Es decir, en lugar de volver a usar todos los datos en cada iteración SGB usa sólo una muestra aleatoria.\n",
    "\n",
    "En la opción que se llama mini-batch esa muestra es de varios casos. En la opción pura de Stochastic Gradient Boosting llega a ser incluso de un solo caso por iteración.\n",
    "\n",
    "Pero como decíamos GBM es lento, y el motivo es porque para hacer los cortes de las variables necesita iterar sobre todos los valores observados de cada variable predictora.\n",
    "\n",
    "Así que la siguiente generación solucionó este problema con la estrategia que se llama binning, que básicamente consiste en discretizar y buscar los cortes por tramos, lo cual agiliza mucho el proceso.\n",
    "\n",
    "En resumen, que este es un campo en contínuo desarrollo y mejora.\n",
    "\n",
    "Por ello, aunque el algoritmo de boosting que ahora mismo implementa Sklearn es GBM con GradientBoostingClassifier() y GradientBoostingRegressor() ambos del módulo ensemble, nosotros vamos a aprender los que son hoy considerados como los mejores algoritmos: XGBoost (en esta lección) y LightGBM (en la siguiente).\n",
    "\n",
    "Para XGBoost vamos a necesitar un paquete externo a Sklearn pero que tiene una interfaz para usarlos con la misma metodología que ya conocemos.\n",
    "\n",
    "XGBoost viene de eXtreme Gradient Boosting."
   ]
  },
  {
   "cell_type": "markdown",
   "id": "organic-happiness",
   "metadata": {},
   "source": [
    "## FICHA DEL ALGORITMO"
   ]
  },
  {
   "cell_type": "markdown",
   "id": "established-olympus",
   "metadata": {},
   "source": [
    "### Ámbito de aplicación"
   ]
  },
  {
   "cell_type": "markdown",
   "id": "minute-hayes",
   "metadata": {},
   "source": [
    "XGGoost se puede aplicar tanto en ámbitos de clasificación como de regresión.\n",
    "\n",
    "XGBoost tiene una clase diferente para cada caso:\n",
    "\n",
    "* Para clasificación: XGBClassifier()\n",
    "* Para regresión: XGBRegressor()\n",
    "\n",
    "Al igual que RF no tiene una salida fácilmente explicable, así que el ámbito de aplicación ideal es cuando se requiere una alta precisión sin una gran capacidad de interpretación.\n",
    "\n",
    "También ha mejorado mucho la velocidad de entrenamiento gracias al uso de binning y a que está nativamente diseñado para trabajar en paralelo y aprovechar todos los cores del equipo, así que es un algoritmo indicado cuando tenemos muchos datos.\n",
    "\n",
    "Incluso acepta GPUs."
   ]
  },
  {
   "cell_type": "markdown",
   "id": "tested-livestock",
   "metadata": {},
   "source": [
    "### Pros"
   ]
  },
  {
   "cell_type": "markdown",
   "id": "modular-token",
   "metadata": {},
   "source": [
    "* Muy rápido\n",
    "* Muy buena capacidad predictiva\n",
    "* Cubre clasificación y regresión\n",
    "* No necesita preselección previa de variables\n",
    "* Métrica incorporada de importancia de las variables\n",
    "* Incorpora regularización con los parámetors reg-alpha (L1) y reg-lambda (L2)\n",
    "* No necesita casi preparación de datos\n",
    "* Captura muy bien relaciones no lineales\n",
    "* No tiene hipótesis a cumplir\n",
    "* Puede optimizar para diferentes métricas, tanto en clasificación como en regresión"
   ]
  },
  {
   "cell_type": "markdown",
   "id": "junior-cancer",
   "metadata": {},
   "source": [
    "### Contras"
   ]
  },
  {
   "cell_type": "markdown",
   "id": "comic-consumer",
   "metadata": {},
   "source": [
    "* No tiene una interpretación ni una explicación directa\n",
    "* Necesita encoding para los predictores categóricos"
   ]
  },
  {
   "cell_type": "markdown",
   "id": "settled-reservation",
   "metadata": {},
   "source": [
    "### Necesidad de preprocesamiento"
   ]
  },
  {
   "cell_type": "markdown",
   "id": "afraid-restoration",
   "metadata": {},
   "source": [
    "No sensible a outliers.\n",
    "\n",
    "No hace falta escalado.\n",
    "\n",
    "No hace falta preselección de variables.\n",
    "\n",
    "Gestiona automáticamente los nulos (no hay que preprocesarlos). Lo que hace en el entrenamiento es que, en las variables en las que haya nulos crea dos versiones de esa rama. En una versión asigna los nulos a un lado y en la otra version al otro lado. Después compara y se queda con la asingación que minimiza el error.\n",
    "\n",
    "Necesita enconding de las variables categóricas."
   ]
  },
  {
   "cell_type": "markdown",
   "id": "individual-arabic",
   "metadata": {},
   "source": [
    "### Supuestos e hipótesis"
   ]
  },
  {
   "cell_type": "markdown",
   "id": "informed-provincial",
   "metadata": {},
   "source": [
    "No tiene."
   ]
  },
  {
   "cell_type": "markdown",
   "id": "north-petroleum",
   "metadata": {},
   "source": [
    "### Sobre ajuste"
   ]
  },
  {
   "cell_type": "markdown",
   "id": "radical-charles",
   "metadata": {},
   "source": [
    "Boosting puede tender al sobre ajuste.\n",
    "\n",
    "Pero XGBoost tiene varios parámetros para aplicar diferentes estrategias para que no suceda:\n",
    "\n",
    "* parámetros para controlar el learning rate\n",
    "* parámetros para controlar la regularización\n",
    "* parámetros para controlar la complejidad de cada árbol"
   ]
  },
  {
   "cell_type": "markdown",
   "id": "maritime-preview",
   "metadata": {},
   "source": [
    "### Grado de interpretación"
   ]
  },
  {
   "cell_type": "markdown",
   "id": "weighted-registration",
   "metadata": {},
   "source": [
    "Bajo.\n",
    "\n",
    "La salida son cientos de árboles que no podemos ponernos a interpretar ni a visualizar individualmente.\n",
    "\n",
    "Pero sí tiene una métrica de importancia de las variables que por lo menos nos ayuda a entender los principales predictores para lo que estemos analizando."
   ]
  },
  {
   "cell_type": "markdown",
   "id": "completed-skating",
   "metadata": {},
   "source": [
    "### Instalación e importación"
   ]
  },
  {
   "cell_type": "markdown",
   "id": "african-sunrise",
   "metadata": {},
   "source": [
    "Como decíamos XGboost es un paquete externo a Sklearn.\n",
    "\n",
    "Lo instalamos así:\n",
    "\n",
    "conda install -c conda-forge xgboost\n",
    "\n",
    "Y lo cargamos así:"
   ]
  },
  {
   "cell_type": "code",
   "execution_count": 2,
   "id": "rural-complement",
   "metadata": {},
   "outputs": [],
   "source": [
    "#Clasificación\n",
    "from xgboost import XGBClassifier\n",
    "\n",
    "#Regresión\n",
    "from xgboost import XGBRegressor"
   ]
  },
  {
   "cell_type": "markdown",
   "id": "equal-opinion",
   "metadata": {},
   "source": [
    "### CLASIFICACIÓN"
   ]
  },
  {
   "cell_type": "markdown",
   "id": "noble-conservative",
   "metadata": {},
   "source": [
    "#### Principales parámetros"
   ]
  },
  {
   "cell_type": "markdown",
   "id": "pressing-innocent",
   "metadata": {},
   "source": [
    "https://xgboost.readthedocs.io/en/latest/python/python_api.html\n",
    "\n",
    "* learning_rate: cuanto más alto mayor velocidad de aprendizaje. Por defecto 0.1 \n",
    "* n_estimators: el número de árboles a crear. Por defecto 100. Recomendado entre 100 y 1000, pero cuidado porque puede sobre ajustar\n",
    "* reg_alpha: regularización en L1\n",
    "* reg_lambda: regularización en L2\n",
    "* max_depth: el número de niveles máximo del árbol\n",
    "* scale_pos_weight: ratio de negativos / positivos para balancear\n",
    "* n_jobs: número de cores a usar\n",
    "* gamma: es un parámetro de poda. por defecto es cero que significa no poda, pero si hay altas diferencias entre los  resultados de train y test usar un valor alto como 10\n",
    "\n",
    "Además hay 3 parámetros especiales porque no se ponen en la instanciación, si no en el fit:\n",
    "\n",
    "* early_stopping_rounds: es una especie de hiperparametrización interna para ajustar n_estimators. Significa que si pasa del número de iteraciones especificado aquí sin tener mejoras ya no seguirá incrementando n_estimators. Para usarlo hay que pasarle en fit un conjunto de test con eval_set. Un buen número es ponerlo a 5.\n",
    "* eval_set: es una lista con los predictores de test y la target de test para que ajuste el parámetro anterior. eval_set=[(test_x, test_y)]\n",
    "* eval_metric: la métrica de evaluación sobre el conjunto de test. Recomiendo poner 'auc'"
   ]
  },
  {
   "cell_type": "markdown",
   "id": "quarterly-fetish",
   "metadata": {},
   "source": [
    "#### Parametrización recomendada"
   ]
  },
  {
   "cell_type": "markdown",
   "id": "correct-election",
   "metadata": {},
   "source": [
    "Hasta que no cojas experiencia propia puede intimidar el tener que tomar decisiones sobre qué valor dar a los parámetros.\n",
    "\n",
    "A partir de la experiencia de competiciones en Kaggle se recomiendan que los valores de los parámetros estén entre los siguientes, que puedes usar como punto de partida."
   ]
  },
  {
   "cell_type": "code",
   "execution_count": 3,
   "id": "bulgarian-plumbing",
   "metadata": {},
   "outputs": [],
   "source": [
    "learning_rate = [0.01,0.015,0.025,0.05,0.1]\n",
    "gamma = [0.05,0.1,0.3,0.5,0.7,0.9,1,10]\n",
    "max_depth = [3,5,7,9,12,15,17,25]\n",
    "reg_alpha = [0,0.1,0.5,1]\n",
    "reg_lambda = [0.01,0.1,1]"
   ]
  },
  {
   "cell_type": "markdown",
   "id": "requested-attempt",
   "metadata": {},
   "source": [
    "#### Principales atributos de resultado"
   ]
  },
  {
   "cell_type": "markdown",
   "id": "worse-calgary",
   "metadata": {},
   "source": [
    "https://xgboost.readthedocs.io/en/latest/python/python_api.html\n",
    "\n",
    "* feature_importances_: para ver la importancia de cada variable"
   ]
  },
  {
   "cell_type": "markdown",
   "id": "silver-tragedy",
   "metadata": {},
   "source": [
    "#### Principales métodos"
   ]
  },
  {
   "cell_type": "markdown",
   "id": "passive-buddy",
   "metadata": {},
   "source": [
    "https://xgboost.readthedocs.io/en/latest/python/python_api.html\n",
    "\n",
    "* fit(): para entrenar\n",
    "* predict_proba(): para generar el scoring\n",
    "* get_params(): para extraer los parámetros del modelo entrenado"
   ]
  },
  {
   "cell_type": "markdown",
   "id": "million-refrigerator",
   "metadata": {},
   "source": [
    "### REGRESIÓN"
   ]
  },
  {
   "cell_type": "markdown",
   "id": "moral-railway",
   "metadata": {},
   "source": [
    "#### Principales parámetros"
   ]
  },
  {
   "cell_type": "markdown",
   "id": "israeli-growth",
   "metadata": {},
   "source": [
    "https://xgboost.readthedocs.io/en/latest/python/python_api.html\n",
    "\n",
    "* learning_rate: cuanto más alto mayor velocidad de aprendizaje. Por defecto 0.1 \n",
    "* n_estimators: el número de árboles a crear. Por defecto 100. Recomendado entre 100 y 1000, pero cuidado porque puede sobre ajustar\n",
    "* reg_alpha: regularización en L1\n",
    "* reg_lambda: regularización en L2\n",
    "* max_depth: el número de niveles máximo del árbol\n",
    "* n_jobs: número de cores a usar\n",
    "* gamma: es un parámetro de poda. por defecto es cero que significa no poda, pero si hay altas diferencias entre los  resultados de train y test usar un valor alto como 10\n",
    "\n",
    "Además hay 3 parámetros especiales porque no se ponen en la instanciación, si no en el fit:\n",
    "\n",
    "* early_stopping_rounds: si pasa del número de iteraciones especificado aquí sin tener mejoras ya no seguirá haciendo más iteraciones. Para usarlo hay que pasarle en fit un conjunto de test con eval_set. Un buen número es ponerlo a 5.\n",
    "* eval_set: es una lista con los predictores de test y la target de test para que ajuste el parámetro anterior. eval_set=[(test_x, test_x)]\n",
    "* eval_metric: la métrica de evaluación sobre el conjunto de test. Recomiendo poner 'rmse' o 'mae'"
   ]
  },
  {
   "cell_type": "markdown",
   "id": "improving-louisiana",
   "metadata": {},
   "source": [
    "#### Parametrización recomendada"
   ]
  },
  {
   "cell_type": "markdown",
   "id": "surrounded-continuity",
   "metadata": {},
   "source": [
    "Hasta que no cojas experiencia propia puede intimidar el tener que tomar decisiones sobre qué valor dar a los parámetros.\n",
    "\n",
    "A partir de la experiencia de competiciones en Kaggle se recomiendan que los valores de los parámetros estén entre los siguientes, que puedes usar como punto de partida."
   ]
  },
  {
   "cell_type": "code",
   "execution_count": 4,
   "id": "thick-taxation",
   "metadata": {},
   "outputs": [],
   "source": [
    "learning_rate = [0.01,0.015,0.025,0.05,0.1]\n",
    "gamma = [0.05,0.1,0.3,0.5,0.7,0.9,1,10]\n",
    "max_depth = [3,5,7,9,12,15,17,25]\n",
    "reg_alpha = [0,0.1,0.5,1]\n",
    "reg_lambda = [0.01,0.1,1]"
   ]
  },
  {
   "cell_type": "markdown",
   "id": "patent-stationery",
   "metadata": {},
   "source": [
    "#### Principales atributos de resultado"
   ]
  },
  {
   "cell_type": "markdown",
   "id": "unlimited-orleans",
   "metadata": {},
   "source": [
    "https://xgboost.readthedocs.io/en/latest/python/python_api.html\n",
    "\n",
    "* feature_importances_: para ver la importancia de cada variable"
   ]
  },
  {
   "cell_type": "markdown",
   "id": "overhead-reach",
   "metadata": {},
   "source": [
    "#### Principales métodos"
   ]
  },
  {
   "cell_type": "markdown",
   "id": "supreme-occupation",
   "metadata": {},
   "source": [
    "https://xgboost.readthedocs.io/en/latest/python/python_api.html\n",
    "\n",
    "* fit(): para entrenar\n",
    "* predict(): para generar el scoring\n",
    "* get_params(): para extraer los parámetros del modelo entrenado"
   ]
  },
  {
   "cell_type": "markdown",
   "id": "raising-gothic",
   "metadata": {},
   "source": [
    "## EJEMPLO"
   ]
  },
  {
   "cell_type": "markdown",
   "id": "fallen-conservation",
   "metadata": {},
   "source": [
    "### Opciones y paquetes"
   ]
  },
  {
   "cell_type": "code",
   "execution_count": 5,
   "id": "promising-captain",
   "metadata": {},
   "outputs": [],
   "source": [
    "import numpy as np\n",
    "import pandas as pd\n",
    "import matplotlib.pyplot as plt\n",
    "%matplotlib inline\n",
    "\n",
    "#Automcompletar rápido\n",
    "%config IPCompleter.greedy=True"
   ]
  },
  {
   "cell_type": "markdown",
   "id": "precious-somalia",
   "metadata": {},
   "source": [
    "### Importación de datos"
   ]
  },
  {
   "cell_type": "markdown",
   "id": "horizontal-lying",
   "metadata": {},
   "source": [
    "Vamos a usar el dataset sintético de target binaria."
   ]
  },
  {
   "cell_type": "code",
   "execution_count": null,
   "id": "understood-tucson",
   "metadata": {},
   "outputs": [
    {
     "data": {
      "text/html": [
       "<div>\n",
       "<style scoped>\n",
       "    .dataframe tbody tr th:only-of-type {\n",
       "        vertical-align: middle;\n",
       "    }\n",
       "\n",
       "    .dataframe tbody tr th {\n",
       "        vertical-align: top;\n",
       "    }\n",
       "\n",
       "    .dataframe thead th {\n",
       "        text-align: right;\n",
       "    }\n",
       "</style>\n",
       "<table border=\"1\" class=\"dataframe\">\n",
       "  <thead>\n",
       "    <tr style=\"text-align: right;\">\n",
       "      <th></th>\n",
       "      <th>x1</th>\n",
       "      <th>x2</th>\n",
       "      <th>x3</th>\n",
       "      <th>x4</th>\n",
       "      <th>x5</th>\n",
       "      <th>x6</th>\n",
       "      <th>x7</th>\n",
       "      <th>x8</th>\n",
       "      <th>x9</th>\n",
       "      <th>target</th>\n",
       "    </tr>\n",
       "  </thead>\n",
       "  <tbody>\n",
       "    <tr>\n",
       "      <th>0</th>\n",
       "      <td>-0.266432</td>\n",
       "      <td>-1.649948</td>\n",
       "      <td>-0.349640</td>\n",
       "      <td>-1.522604</td>\n",
       "      <td>2.566878</td>\n",
       "      <td>1.495543</td>\n",
       "      <td>-2.190401</td>\n",
       "      <td>-0.397880</td>\n",
       "      <td>1.915840</td>\n",
       "      <td>0</td>\n",
       "    </tr>\n",
       "    <tr>\n",
       "      <th>1</th>\n",
       "      <td>-0.957055</td>\n",
       "      <td>0.010025</td>\n",
       "      <td>-0.016071</td>\n",
       "      <td>-1.503270</td>\n",
       "      <td>0.450517</td>\n",
       "      <td>0.618956</td>\n",
       "      <td>-0.717107</td>\n",
       "      <td>0.158979</td>\n",
       "      <td>0.334379</td>\n",
       "      <td>1</td>\n",
       "    </tr>\n",
       "    <tr>\n",
       "      <th>2</th>\n",
       "      <td>1.749467</td>\n",
       "      <td>-1.314553</td>\n",
       "      <td>-0.448371</td>\n",
       "      <td>-2.182398</td>\n",
       "      <td>-2.015897</td>\n",
       "      <td>-0.914221</td>\n",
       "      <td>-2.577705</td>\n",
       "      <td>1.032420</td>\n",
       "      <td>2.396877</td>\n",
       "      <td>1</td>\n",
       "    </tr>\n",
       "    <tr>\n",
       "      <th>3</th>\n",
       "      <td>-1.853083</td>\n",
       "      <td>-1.678272</td>\n",
       "      <td>1.285303</td>\n",
       "      <td>-0.580328</td>\n",
       "      <td>-0.878353</td>\n",
       "      <td>-0.574685</td>\n",
       "      <td>-0.440330</td>\n",
       "      <td>2.617362</td>\n",
       "      <td>-1.206825</td>\n",
       "      <td>0</td>\n",
       "    </tr>\n",
       "    <tr>\n",
       "      <th>4</th>\n",
       "      <td>0.983757</td>\n",
       "      <td>-0.528091</td>\n",
       "      <td>2.335109</td>\n",
       "      <td>-0.485462</td>\n",
       "      <td>2.063985</td>\n",
       "      <td>3.615928</td>\n",
       "      <td>-2.418671</td>\n",
       "      <td>1.053133</td>\n",
       "      <td>1.412055</td>\n",
       "      <td>1</td>\n",
       "    </tr>\n",
       "    <tr>\n",
       "      <th>...</th>\n",
       "      <td>...</td>\n",
       "      <td>...</td>\n",
       "      <td>...</td>\n",
       "      <td>...</td>\n",
       "      <td>...</td>\n",
       "      <td>...</td>\n",
       "      <td>...</td>\n",
       "      <td>...</td>\n",
       "      <td>...</td>\n",
       "      <td>...</td>\n",
       "    </tr>\n",
       "    <tr>\n",
       "      <th>995</th>\n",
       "      <td>0.137035</td>\n",
       "      <td>-0.651149</td>\n",
       "      <td>0.506537</td>\n",
       "      <td>-0.808918</td>\n",
       "      <td>0.121417</td>\n",
       "      <td>0.275886</td>\n",
       "      <td>-0.631953</td>\n",
       "      <td>1.200345</td>\n",
       "      <td>-0.408929</td>\n",
       "      <td>0</td>\n",
       "    </tr>\n",
       "    <tr>\n",
       "      <th>996</th>\n",
       "      <td>-0.611333</td>\n",
       "      <td>1.640563</td>\n",
       "      <td>2.731870</td>\n",
       "      <td>-1.303258</td>\n",
       "      <td>-0.074655</td>\n",
       "      <td>2.681244</td>\n",
       "      <td>0.275025</td>\n",
       "      <td>-1.869411</td>\n",
       "      <td>2.484661</td>\n",
       "      <td>0</td>\n",
       "    </tr>\n",
       "    <tr>\n",
       "      <th>997</th>\n",
       "      <td>0.999843</td>\n",
       "      <td>-1.650038</td>\n",
       "      <td>1.067600</td>\n",
       "      <td>-0.676316</td>\n",
       "      <td>-2.278678</td>\n",
       "      <td>-1.067705</td>\n",
       "      <td>-1.449736</td>\n",
       "      <td>3.841241</td>\n",
       "      <td>-1.129555</td>\n",
       "      <td>0</td>\n",
       "    </tr>\n",
       "    <tr>\n",
       "      <th>998</th>\n",
       "      <td>-0.788198</td>\n",
       "      <td>0.541500</td>\n",
       "      <td>3.307268</td>\n",
       "      <td>-0.394564</td>\n",
       "      <td>-1.839605</td>\n",
       "      <td>2.814642</td>\n",
       "      <td>-3.555806</td>\n",
       "      <td>6.302001</td>\n",
       "      <td>-1.799188</td>\n",
       "      <td>0</td>\n",
       "    </tr>\n",
       "    <tr>\n",
       "      <th>999</th>\n",
       "      <td>-0.803671</td>\n",
       "      <td>-1.057069</td>\n",
       "      <td>-0.414237</td>\n",
       "      <td>-1.011128</td>\n",
       "      <td>0.118600</td>\n",
       "      <td>-0.509549</td>\n",
       "      <td>-0.801186</td>\n",
       "      <td>1.687871</td>\n",
       "      <td>-1.039198</td>\n",
       "      <td>0</td>\n",
       "    </tr>\n",
       "  </tbody>\n",
       "</table>\n",
       "<p>1000 rows × 10 columns</p>\n",
       "</div>"
      ],
      "text/plain": [
       "           x1        x2        x3        x4        x5        x6        x7  \\\n",
       "0   -0.266432 -1.649948 -0.349640 -1.522604  2.566878  1.495543 -2.190401   \n",
       "1   -0.957055  0.010025 -0.016071 -1.503270  0.450517  0.618956 -0.717107   \n",
       "2    1.749467 -1.314553 -0.448371 -2.182398 -2.015897 -0.914221 -2.577705   \n",
       "3   -1.853083 -1.678272  1.285303 -0.580328 -0.878353 -0.574685 -0.440330   \n",
       "4    0.983757 -0.528091  2.335109 -0.485462  2.063985  3.615928 -2.418671   \n",
       "..        ...       ...       ...       ...       ...       ...       ...   \n",
       "995  0.137035 -0.651149  0.506537 -0.808918  0.121417  0.275886 -0.631953   \n",
       "996 -0.611333  1.640563  2.731870 -1.303258 -0.074655  2.681244  0.275025   \n",
       "997  0.999843 -1.650038  1.067600 -0.676316 -2.278678 -1.067705 -1.449736   \n",
       "998 -0.788198  0.541500  3.307268 -0.394564 -1.839605  2.814642 -3.555806   \n",
       "999 -0.803671 -1.057069 -0.414237 -1.011128  0.118600 -0.509549 -0.801186   \n",
       "\n",
       "           x8        x9  target  \n",
       "0   -0.397880  1.915840       0  \n",
       "1    0.158979  0.334379       1  \n",
       "2    1.032420  2.396877       1  \n",
       "3    2.617362 -1.206825       0  \n",
       "4    1.053133  1.412055       1  \n",
       "..        ...       ...     ...  \n",
       "995  1.200345 -0.408929       0  \n",
       "996 -1.869411  2.484661       0  \n",
       "997  3.841241 -1.129555       0  \n",
       "998  6.302001 -1.799188       0  \n",
       "999  1.687871 -1.039198       0  \n",
       "\n",
       "[1000 rows x 10 columns]"
      ]
     },
     "execution_count": 6,
     "metadata": {},
     "output_type": "execute_result"
    }
   ],
   "source": [
    "#Cargamos el dataset sintetico_binaria.csv que está en 00_DATASETS\n",
    "df = pd.read_csv('sintetico_binaria.csv')\n",
    "df"
   ]
  },
  {
   "cell_type": "markdown",
   "id": "specific-feeding",
   "metadata": {},
   "source": [
    "### Modelo"
   ]
  },
  {
   "cell_type": "markdown",
   "id": "adopted-chosen",
   "metadata": {},
   "source": [
    "#### Separar predictoras y target"
   ]
  },
  {
   "cell_type": "code",
   "execution_count": 7,
   "id": "executed-trading",
   "metadata": {},
   "outputs": [],
   "source": [
    "x = df.drop(columns = 'target')\n",
    "y = df['target']"
   ]
  },
  {
   "cell_type": "markdown",
   "id": "stainless-grant",
   "metadata": {},
   "source": [
    "#### Separar train y test"
   ]
  },
  {
   "cell_type": "code",
   "execution_count": 8,
   "id": "informational-adobe",
   "metadata": {},
   "outputs": [],
   "source": [
    "from sklearn.model_selection import train_test_split\n",
    "\n",
    "train_x,test_x,train_y,test_y = train_test_split(x,y,test_size=0.3)"
   ]
  },
  {
   "cell_type": "markdown",
   "id": "regulated-gentleman",
   "metadata": {},
   "source": [
    "#### Entrenar el modelo"
   ]
  },
  {
   "cell_type": "code",
   "execution_count": 11,
   "id": "05f603b8-6748-4309-892f-415cc32e3eec",
   "metadata": {},
   "outputs": [
    {
     "name": "stdout",
     "output_type": "stream",
     "text": [
      "[0]\tvalidation_0-auc:0.78177\n",
      "[1]\tvalidation_0-auc:0.83299\n",
      "[2]\tvalidation_0-auc:0.82124\n",
      "[3]\tvalidation_0-auc:0.82477\n",
      "[4]\tvalidation_0-auc:0.82625\n",
      "[5]\tvalidation_0-auc:0.83492\n",
      "[6]\tvalidation_0-auc:0.83786\n",
      "[7]\tvalidation_0-auc:0.84306\n",
      "[8]\tvalidation_0-auc:0.84037\n",
      "[9]\tvalidation_0-auc:0.84074\n",
      "[10]\tvalidation_0-auc:0.84538\n",
      "[11]\tvalidation_0-auc:0.84778\n",
      "[12]\tvalidation_0-auc:0.84460\n",
      "[13]\tvalidation_0-auc:0.84180\n",
      "[14]\tvalidation_0-auc:0.84264\n",
      "[15]\tvalidation_0-auc:0.84202\n",
      "[16]\tvalidation_0-auc:0.83923\n"
     ]
    },
    {
     "data": {
      "text/html": [
       "<style>#sk-container-id-3 {color: black;}#sk-container-id-3 pre{padding: 0;}#sk-container-id-3 div.sk-toggleable {background-color: white;}#sk-container-id-3 label.sk-toggleable__label {cursor: pointer;display: block;width: 100%;margin-bottom: 0;padding: 0.3em;box-sizing: border-box;text-align: center;}#sk-container-id-3 label.sk-toggleable__label-arrow:before {content: \"▸\";float: left;margin-right: 0.25em;color: #696969;}#sk-container-id-3 label.sk-toggleable__label-arrow:hover:before {color: black;}#sk-container-id-3 div.sk-estimator:hover label.sk-toggleable__label-arrow:before {color: black;}#sk-container-id-3 div.sk-toggleable__content {max-height: 0;max-width: 0;overflow: hidden;text-align: left;background-color: #f0f8ff;}#sk-container-id-3 div.sk-toggleable__content pre {margin: 0.2em;color: black;border-radius: 0.25em;background-color: #f0f8ff;}#sk-container-id-3 input.sk-toggleable__control:checked~div.sk-toggleable__content {max-height: 200px;max-width: 100%;overflow: auto;}#sk-container-id-3 input.sk-toggleable__control:checked~label.sk-toggleable__label-arrow:before {content: \"▾\";}#sk-container-id-3 div.sk-estimator input.sk-toggleable__control:checked~label.sk-toggleable__label {background-color: #d4ebff;}#sk-container-id-3 div.sk-label input.sk-toggleable__control:checked~label.sk-toggleable__label {background-color: #d4ebff;}#sk-container-id-3 input.sk-hidden--visually {border: 0;clip: rect(1px 1px 1px 1px);clip: rect(1px, 1px, 1px, 1px);height: 1px;margin: -1px;overflow: hidden;padding: 0;position: absolute;width: 1px;}#sk-container-id-3 div.sk-estimator {font-family: monospace;background-color: #f0f8ff;border: 1px dotted black;border-radius: 0.25em;box-sizing: border-box;margin-bottom: 0.5em;}#sk-container-id-3 div.sk-estimator:hover {background-color: #d4ebff;}#sk-container-id-3 div.sk-parallel-item::after {content: \"\";width: 100%;border-bottom: 1px solid gray;flex-grow: 1;}#sk-container-id-3 div.sk-label:hover label.sk-toggleable__label {background-color: #d4ebff;}#sk-container-id-3 div.sk-serial::before {content: \"\";position: absolute;border-left: 1px solid gray;box-sizing: border-box;top: 0;bottom: 0;left: 50%;z-index: 0;}#sk-container-id-3 div.sk-serial {display: flex;flex-direction: column;align-items: center;background-color: white;padding-right: 0.2em;padding-left: 0.2em;position: relative;}#sk-container-id-3 div.sk-item {position: relative;z-index: 1;}#sk-container-id-3 div.sk-parallel {display: flex;align-items: stretch;justify-content: center;background-color: white;position: relative;}#sk-container-id-3 div.sk-item::before, #sk-container-id-3 div.sk-parallel-item::before {content: \"\";position: absolute;border-left: 1px solid gray;box-sizing: border-box;top: 0;bottom: 0;left: 50%;z-index: -1;}#sk-container-id-3 div.sk-parallel-item {display: flex;flex-direction: column;z-index: 1;position: relative;background-color: white;}#sk-container-id-3 div.sk-parallel-item:first-child::after {align-self: flex-end;width: 50%;}#sk-container-id-3 div.sk-parallel-item:last-child::after {align-self: flex-start;width: 50%;}#sk-container-id-3 div.sk-parallel-item:only-child::after {width: 0;}#sk-container-id-3 div.sk-dashed-wrapped {border: 1px dashed gray;margin: 0 0.4em 0.5em 0.4em;box-sizing: border-box;padding-bottom: 0.4em;background-color: white;}#sk-container-id-3 div.sk-label label {font-family: monospace;font-weight: bold;display: inline-block;line-height: 1.2em;}#sk-container-id-3 div.sk-label-container {text-align: center;}#sk-container-id-3 div.sk-container {/* jupyter's `normalize.less` sets `[hidden] { display: none; }` but bootstrap.min.css set `[hidden] { display: none !important; }` so we also need the `!important` here to be able to override the default hidden behavior on the sphinx rendered scikit-learn.org. See: https://github.com/scikit-learn/scikit-learn/issues/21755 */display: inline-block !important;position: relative;}#sk-container-id-3 div.sk-text-repr-fallback {display: none;}</style><div id=\"sk-container-id-3\" class=\"sk-top-container\"><div class=\"sk-text-repr-fallback\"><pre>XGBClassifier(base_score=None, booster=None, callbacks=None,\n",
       "              colsample_bylevel=None, colsample_bynode=None,\n",
       "              colsample_bytree=None, device=None, early_stopping_rounds=5,\n",
       "              enable_categorical=False, eval_metric=&#x27;auc&#x27;, feature_types=None,\n",
       "              gamma=None, grow_policy=None, importance_type=None,\n",
       "              interaction_constraints=None, learning_rate=None, max_bin=None,\n",
       "              max_cat_threshold=None, max_cat_to_onehot=None,\n",
       "              max_delta_step=None, max_depth=None, max_leaves=None,\n",
       "              min_child_weight=None, missing=nan, monotone_constraints=None,\n",
       "              multi_strategy=None, n_estimators=None, n_jobs=None,\n",
       "              num_parallel_tree=None, random_state=None, ...)</pre><b>In a Jupyter environment, please rerun this cell to show the HTML representation or trust the notebook. <br />On GitHub, the HTML representation is unable to render, please try loading this page with nbviewer.org.</b></div><div class=\"sk-container\" hidden><div class=\"sk-item\"><div class=\"sk-estimator sk-toggleable\"><input class=\"sk-toggleable__control sk-hidden--visually\" id=\"sk-estimator-id-3\" type=\"checkbox\" checked><label for=\"sk-estimator-id-3\" class=\"sk-toggleable__label sk-toggleable__label-arrow\">XGBClassifier</label><div class=\"sk-toggleable__content\"><pre>XGBClassifier(base_score=None, booster=None, callbacks=None,\n",
       "              colsample_bylevel=None, colsample_bynode=None,\n",
       "              colsample_bytree=None, device=None, early_stopping_rounds=5,\n",
       "              enable_categorical=False, eval_metric=&#x27;auc&#x27;, feature_types=None,\n",
       "              gamma=None, grow_policy=None, importance_type=None,\n",
       "              interaction_constraints=None, learning_rate=None, max_bin=None,\n",
       "              max_cat_threshold=None, max_cat_to_onehot=None,\n",
       "              max_delta_step=None, max_depth=None, max_leaves=None,\n",
       "              min_child_weight=None, missing=nan, monotone_constraints=None,\n",
       "              multi_strategy=None, n_estimators=None, n_jobs=None,\n",
       "              num_parallel_tree=None, random_state=None, ...)</pre></div></div></div></div></div>"
      ],
      "text/plain": [
       "XGBClassifier(base_score=None, booster=None, callbacks=None,\n",
       "              colsample_bylevel=None, colsample_bynode=None,\n",
       "              colsample_bytree=None, device=None, early_stopping_rounds=5,\n",
       "              enable_categorical=False, eval_metric='auc', feature_types=None,\n",
       "              gamma=None, grow_policy=None, importance_type=None,\n",
       "              interaction_constraints=None, learning_rate=None, max_bin=None,\n",
       "              max_cat_threshold=None, max_cat_to_onehot=None,\n",
       "              max_delta_step=None, max_depth=None, max_leaves=None,\n",
       "              min_child_weight=None, missing=nan, monotone_constraints=None,\n",
       "              multi_strategy=None, n_estimators=None, n_jobs=None,\n",
       "              num_parallel_tree=None, random_state=None, ...)"
      ]
     },
     "execution_count": 11,
     "metadata": {},
     "output_type": "execute_result"
    }
   ],
   "source": [
    "from xgboost import XGBClassifier\n",
    "\n",
    "# Instanciar el clasificador y configurar los parámetros\n",
    "xgb = XGBClassifier(use_label_encoder=False, eval_metric='auc', early_stopping_rounds=5)\n",
    "\n",
    "# Entrenar\n",
    "xgb.fit(train_x, train_y, eval_set=[(test_x, test_y)])\n"
   ]
  },
  {
   "cell_type": "markdown",
   "id": "relative-production",
   "metadata": {},
   "source": [
    "#### Predecir sobre test"
   ]
  },
  {
   "cell_type": "code",
   "execution_count": 12,
   "id": "bright-adventure",
   "metadata": {},
   "outputs": [
    {
     "data": {
      "text/plain": [
       "array([0.20672312, 0.10879689, 0.08413326, 0.67385584, 0.03971065,\n",
       "       0.60229874, 0.59869355, 0.02271   , 0.24466695, 0.02909383],\n",
       "      dtype=float32)"
      ]
     },
     "execution_count": 12,
     "metadata": {},
     "output_type": "execute_result"
    }
   ],
   "source": [
    "pred = xgb.predict_proba(test_x)[:, 1]\n",
    "pred[:10]"
   ]
  },
  {
   "cell_type": "markdown",
   "id": "included-capture",
   "metadata": {},
   "source": [
    "#### Evaluar sobre test"
   ]
  },
  {
   "cell_type": "code",
   "execution_count": 13,
   "id": "driven-first",
   "metadata": {},
   "outputs": [
    {
     "data": {
      "text/plain": [
       "0.8477847393152832"
      ]
     },
     "execution_count": 13,
     "metadata": {},
     "output_type": "execute_result"
    }
   ],
   "source": [
    "from sklearn.metrics import roc_auc_score\n",
    "\n",
    "roc_auc_score(test_y,pred)"
   ]
  },
  {
   "cell_type": "markdown",
   "id": "stretch-chapel",
   "metadata": {},
   "source": [
    "#### Revisión de los parámetros de entrenamiento"
   ]
  },
  {
   "cell_type": "code",
   "execution_count": 14,
   "id": "beginning-newport",
   "metadata": {},
   "outputs": [
    {
     "data": {
      "text/plain": [
       "{'objective': 'binary:logistic',\n",
       " 'base_score': None,\n",
       " 'booster': None,\n",
       " 'callbacks': None,\n",
       " 'colsample_bylevel': None,\n",
       " 'colsample_bynode': None,\n",
       " 'colsample_bytree': None,\n",
       " 'device': None,\n",
       " 'early_stopping_rounds': 5,\n",
       " 'enable_categorical': False,\n",
       " 'eval_metric': 'auc',\n",
       " 'feature_types': None,\n",
       " 'gamma': None,\n",
       " 'grow_policy': None,\n",
       " 'importance_type': None,\n",
       " 'interaction_constraints': None,\n",
       " 'learning_rate': None,\n",
       " 'max_bin': None,\n",
       " 'max_cat_threshold': None,\n",
       " 'max_cat_to_onehot': None,\n",
       " 'max_delta_step': None,\n",
       " 'max_depth': None,\n",
       " 'max_leaves': None,\n",
       " 'min_child_weight': None,\n",
       " 'missing': nan,\n",
       " 'monotone_constraints': None,\n",
       " 'multi_strategy': None,\n",
       " 'n_estimators': None,\n",
       " 'n_jobs': None,\n",
       " 'num_parallel_tree': None,\n",
       " 'random_state': None,\n",
       " 'reg_alpha': None,\n",
       " 'reg_lambda': None,\n",
       " 'sampling_method': None,\n",
       " 'scale_pos_weight': None,\n",
       " 'subsample': None,\n",
       " 'tree_method': None,\n",
       " 'validate_parameters': None,\n",
       " 'verbosity': None,\n",
       " 'use_label_encoder': False}"
      ]
     },
     "execution_count": 14,
     "metadata": {},
     "output_type": "execute_result"
    }
   ],
   "source": [
    "xgb.get_params()"
   ]
  },
  {
   "cell_type": "markdown",
   "id": "established-springer",
   "metadata": {},
   "source": [
    "#### Análisis de la importancia de las variables"
   ]
  },
  {
   "cell_type": "markdown",
   "id": "nutritional-bailey",
   "metadata": {},
   "source": [
    "XGBoost calcula la importancia de las variables como la ganancia media en todos los nodos en los que se ha usado la variable."
   ]
  },
  {
   "cell_type": "code",
   "execution_count": 15,
   "id": "muslim-franchise",
   "metadata": {
    "scrolled": true
   },
   "outputs": [
    {
     "data": {
      "image/png": "[encoded data removed]",
      "text/plain": [
       "<Figure size 640x480 with 1 Axes>"
      ]
     },
     "metadata": {},
     "output_type": "display_data"
    }
   ],
   "source": [
    "pd.Series(xgb.feature_importances_,index = test_x.columns).sort_values(ascending = False).plot(kind = 'bar');"
   ]
  },
  {
   "cell_type": "markdown",
   "id": "hungry-waterproof",
   "metadata": {},
   "source": [
    "O un dataframe"
   ]
  },
  {
   "cell_type": "code",
   "execution_count": 16,
   "id": "opened-accounting",
   "metadata": {},
   "outputs": [
    {
     "data": {
      "text/html": [
       "<div>\n",
       "<style scoped>\n",
       "    .dataframe tbody tr th:only-of-type {\n",
       "        vertical-align: middle;\n",
       "    }\n",
       "\n",
       "    .dataframe tbody tr th {\n",
       "        vertical-align: top;\n",
       "    }\n",
       "\n",
       "    .dataframe thead th {\n",
       "        text-align: right;\n",
       "    }\n",
       "</style>\n",
       "<table border=\"1\" class=\"dataframe\">\n",
       "  <thead>\n",
       "    <tr style=\"text-align: right;\">\n",
       "      <th></th>\n",
       "      <th>variable</th>\n",
       "      <th>importancia</th>\n",
       "    </tr>\n",
       "  </thead>\n",
       "  <tbody>\n",
       "    <tr>\n",
       "      <th>2</th>\n",
       "      <td>x3</td>\n",
       "      <td>0.304503</td>\n",
       "    </tr>\n",
       "    <tr>\n",
       "      <th>1</th>\n",
       "      <td>x2</td>\n",
       "      <td>0.113718</td>\n",
       "    </tr>\n",
       "    <tr>\n",
       "      <th>8</th>\n",
       "      <td>x9</td>\n",
       "      <td>0.101802</td>\n",
       "    </tr>\n",
       "    <tr>\n",
       "      <th>5</th>\n",
       "      <td>x6</td>\n",
       "      <td>0.095590</td>\n",
       "    </tr>\n",
       "    <tr>\n",
       "      <th>6</th>\n",
       "      <td>x7</td>\n",
       "      <td>0.084079</td>\n",
       "    </tr>\n",
       "    <tr>\n",
       "      <th>4</th>\n",
       "      <td>x5</td>\n",
       "      <td>0.082993</td>\n",
       "    </tr>\n",
       "    <tr>\n",
       "      <th>0</th>\n",
       "      <td>x1</td>\n",
       "      <td>0.075398</td>\n",
       "    </tr>\n",
       "    <tr>\n",
       "      <th>7</th>\n",
       "      <td>x8</td>\n",
       "      <td>0.074182</td>\n",
       "    </tr>\n",
       "    <tr>\n",
       "      <th>3</th>\n",
       "      <td>x4</td>\n",
       "      <td>0.067736</td>\n",
       "    </tr>\n",
       "  </tbody>\n",
       "</table>\n",
       "</div>"
      ],
      "text/plain": [
       "  variable  importancia\n",
       "2       x3     0.304503\n",
       "1       x2     0.113718\n",
       "8       x9     0.101802\n",
       "5       x6     0.095590\n",
       "6       x7     0.084079\n",
       "4       x5     0.082993\n",
       "0       x1     0.075398\n",
       "7       x8     0.074182\n",
       "3       x4     0.067736"
      ]
     },
     "execution_count": 16,
     "metadata": {},
     "output_type": "execute_result"
    }
   ],
   "source": [
    "importancia = pd.DataFrame({'variable': test_x.columns, 'importancia': xgb.feature_importances_})\n",
    "importancia.sort_values(by = 'importancia', ascending = False)"
   ]
  }
 ],
 "metadata": {
  "kernelspec": {
   "display_name": "Python 3",
   "language": "python",
   "name": "python3"
  },
  "language_info": {
   "codemirror_mode": {
    "name": "ipython",
    "version": 3
   },
   "file_extension": ".py",
   "mimetype": "text/x-python",
   "name": "python",
   "nbconvert_exporter": "python",
   "pygments_lexer": "ipython3",
   "version": "3.11.4"
  },
  "toc": {
   "base_numbering": 1,
   "nav_menu": {},
   "number_sections": true,
   "sideBar": true,
   "skip_h1_title": false,
   "title_cell": "Table of Contents",
   "title_sidebar": "Contents",
   "toc_cell": false,
   "toc_position": {
    "height": "calc(100% - 180px)",
    "left": "10px",
    "top": "150px",
    "width": "352px"
   },
   "toc_section_display": true,
   "toc_window_display": true
  },
  "varInspector": {
   "cols": {
    "lenName": 16,
    "lenType": 16,
    "lenVar": 40
   },
   "kernels_config": {
    "python": {
     "delete_cmd_postfix": "",
     "delete_cmd_prefix": "del ",
     "library": "var_list.py",
     "varRefreshCmd": "print(var_dic_list())"
    },
    "r": {
     "delete_cmd_postfix": ") ",
     "delete_cmd_prefix": "rm(",
     "library": "var_list.r",
     "varRefreshCmd": "cat(var_dic_list()) "
    }
   },
   "types_to_exclude": [
    "module",
    "function",
    "builtin_function_or_method",
    "instance",
    "_Feature"
   ],
   "window_display": false
  }
 },
 "nbformat": 4,
 "nbformat_minor": 5
}
